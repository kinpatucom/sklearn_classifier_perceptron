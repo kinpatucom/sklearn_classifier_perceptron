{
 "cells": [
  {
   "cell_type": "markdown",
   "metadata": {},
   "source": [
    "### 分類アルゴリズムの選択\n",
    "\n",
    "分類器の性能(予測能力と計算能力)は学習に利用可能なデータに大きく依存する\n",
    "\n",
    "機械学習のアルゴリズムのトレーニングは主要な5つの手順で構成される\n",
    "\n",
    "1,特徴量を選択し、トレーニングサンプルを収集する\n",
    "\n",
    "2,性能指標を選択する\n",
    "\n",
    "3,分類器と最適化アルゴリズムを選択する\n",
    "\n",
    "4,モデルの性能を評価する\n",
    "\n",
    "5, アルゴリズムを評価する"
   ]
  },
  {
   "cell_type": "code",
   "execution_count": 4,
   "metadata": {},
   "outputs": [
    {
     "name": "stdout",
     "output_type": "stream",
     "text": [
      "Class labels :  [0 1 2]\n"
     ]
    }
   ],
   "source": [
    "#パーセプトロンのトレーニング\n",
    "\n",
    "from sklearn import datasets\n",
    "import numpy as np\n",
    "\n",
    "iris=datasets.load_iris()\n",
    "\n",
    "#がく片の長さと花びらの長さを特徴量Xに代入、対する品種のクラスラベルをyに代入\n",
    "X=iris.data[:,[2,3]]\n",
    "y=iris.target\n",
    "\n",
    "print('Class labels : ',np.unique(y))"
   ]
  },
  {
   "cell_type": "code",
   "execution_count": 7,
   "metadata": {},
   "outputs": [
    {
     "name": "stdout",
     "output_type": "stream",
     "text": [
      "Labels counts in y: [50 50 50]\n",
      "Labels counts in y_train:  [35 35 35]\n",
      "Labels counts in y_test [15 15 15]\n"
     ]
    }
   ],
   "source": [
    "#yにはアヤメの花のクラス名であるIris-setosa,Iris-versicolor,Iris-virginicaが[0,1,2]として格納されている\n",
    "#メモリ消費を抑えて計算性能を上げるため整数のラベルを使用する事が推奨\n",
    "#ほとんどの機械学習ライブラリではクラスラベルを整数として符号化する事が慣例となっている\n",
    "\n",
    "#データセットをさらにトレーニングデータ、テストデータに分割\n",
    "\n",
    "from sklearn.model_selection import train_test_split\n",
    "#全体の30%をテストデータにする\n",
    "\n",
    "X_train,X_test,y_train,y_test=train_test_split(X,y,test_size=0.3,random_state=42,stratify=y)\n",
    "\n",
    "print('Labels counts in y:',np.bincount(y))\n",
    "print('Labels counts in y_train: ',np.bincount(y_train))\n",
    "print('Labels counts in y_test',np.bincount(y_test))"
   ]
  },
  {
   "cell_type": "code",
   "execution_count": 8,
   "metadata": {},
   "outputs": [],
   "source": [
    "#機械学習と最適化の多くのアルゴリズムでは、最適な性能を得るために特徴量のスケーリングも必要となる\n",
    "#scikit-learnのpreprocessingモジュールのStandardScalerクラスを使って特量量を標準化する\n",
    "\n",
    "from sklearn.preprocessing import StandardScaler\n",
    "\n",
    "sc=StandardScaler()\n",
    "\n",
    "#トレーニングデータの平均と標準偏差を計算\n",
    "sc.fit(X_train)\n",
    "\n",
    "#平均と標準偏差を用いて標準化\n",
    "X_train_std=sc.transform(X_train)\n",
    "X_test_std=sc.transform(X_test)"
   ]
  },
  {
   "cell_type": "code",
   "execution_count": 10,
   "metadata": {},
   "outputs": [
    {
     "data": {
      "text/plain": [
       "Perceptron(alpha=0.0001, class_weight=None, eta0=0.1, fit_intercept=True,\n",
       "      max_iter=None, n_iter=40, n_jobs=1, penalty=None, random_state=42,\n",
       "      shuffle=True, tol=None, verbose=0, warm_start=False)"
      ]
     },
     "execution_count": 10,
     "metadata": {},
     "output_type": "execute_result"
    }
   ],
   "source": [
    "#トレーニングデータを標準化したところでパーセプトロンモデルをトレーニングできる状態になる。\n",
    "#scikit-learnのほとんどのアルゴリズムは多クラス分類をデフォルトでサポートしている。\n",
    "#1対他(OvR)手法が使用されるため、3つの品種のクラスをパーセプトロンに同時に与える事ができる\n",
    "    \n",
    "from sklearn.linear_model import Perceptron\n",
    "\n",
    "#エポック数40 学習率0.1でパーセプトロンのインスタンスを生成\n",
    "ppn=Perceptron(n_iter=40,eta0=0.1,random_state=42)\n",
    "\n",
    "ppn.fit(X_train_std,y_train)"
   ]
  },
  {
   "cell_type": "code",
   "execution_count": 12,
   "metadata": {},
   "outputs": [
    {
     "name": "stdout",
     "output_type": "stream",
     "text": [
      "Missclassed samples : 4\n"
     ]
    }
   ],
   "source": [
    "#予測を行う\n",
    "y_pred=ppn.predict(X_test_std)\n",
    "\n",
    "#誤分類のサンプルの個数を表示\n",
    "\n",
    "print('Missclassed samples : {}'.format((y_test != y_pred).sum()))"
   ]
  },
  {
   "cell_type": "markdown",
   "metadata": {},
   "source": [
    "サンプルのうち45つを誤分類する事が分かった\n",
    "\n",
    "#### 機械学習では誤分類率を報告するのではなくモデルの正解率を報告する\n",
    "\n",
    "モデルの正解率は誤分類率を1から引いたもので次のように計算する\n",
    "\n",
    "正解率　= 1-[誤分類率]\n",
    "\n",
    "scikit-learnでは、metricsモジュールによりさまざまな性能指標を計算する機能が実装されている\n",
    "\n",
    "テストデータセットでのパーセプトロンの正解率"
   ]
  },
  {
   "cell_type": "code",
   "execution_count": 14,
   "metadata": {},
   "outputs": [
    {
     "name": "stdout",
     "output_type": "stream",
     "text": [
      "Accuracy : 0.911111\n"
     ]
    }
   ],
   "source": [
    "from sklearn.metrics import accuracy_score\n",
    "\n",
    "#分類器の正解率を表示\n",
    "print('Accuracy : %2f'% accuracy_score(y_test,y_pred))"
   ]
  },
  {
   "cell_type": "code",
   "execution_count": 15,
   "metadata": {},
   "outputs": [
    {
     "name": "stdout",
     "output_type": "stream",
     "text": [
      "Accuracy;0.911111\n"
     ]
    }
   ],
   "source": [
    "#scikit-learnのscoreメソッドと組み合わせる事で分類器の正解率を計算する\n",
    "print('Accuracy;%2f'%ppn.score(X_test_std,y_test))"
   ]
  },
  {
   "cell_type": "code",
   "execution_count": 27,
   "metadata": {},
   "outputs": [],
   "source": [
    "#トレーニングしたパーセプトロンモデルの決定領域をプロットし、さまざまな品種のサンプルをどの程度識別できるのかを可視化\n",
    "\n",
    "from matplotlib.colors import ListedColormap\n",
    "import matplotlib.pyplot as plt\n",
    "\n",
    "def plot_decision_regions(X,y,classifier,test_idx=None,resolution=0.02):\n",
    "    #マーカーとカラーマップの準備\n",
    "    markers=('s','x','o','^','v')\n",
    "    colors=('red','blue','lightgreen','gray','cyan')\n",
    "    cmap=ListedColormap(colors[:len(np.unique(y))])\n",
    "    \n",
    "    #決定領域のプロット\n",
    "    x1_min,x1_max = X[:,0].min()-1,X[:,0].max()+1\n",
    "    x2_min,x2_max = X[:,1].min()-1,X[:,1].max()+1\n",
    "    \n",
    "    #グリッドポイントの生成\n",
    "    xx1,xx2=np.meshgrid(np.arange(x1_min,x1_max,resolution),\n",
    "                                            np.arange(x2_min,x2_max,resolution))\n",
    "    \n",
    "    #各特徴量を１次元配列に変換して予測を実行\n",
    "    Z=classifier.predict(np.array([xx1.ravel(),xx2.ravel()]).T)\n",
    "    \n",
    "    #予測結果を元のグリッドポイントのデータサイズに変換\n",
    "    Z=Z.reshape(xx1.shape)\n",
    "    \n",
    "    #グリッドポイントの等高線のプロット\n",
    "    plt.contourf(xx1,xx2,Z,alpha=0.3,cmap=cmap)\n",
    "    \n",
    "    #軸の範囲の指定\n",
    "    plt.xlim(xx1.min(),xx1.max())\n",
    "    plt.ylim(xx2.min(),xx2.max())\n",
    "    \n",
    "    #クラスごとにサンプルをプロット\n",
    "    for idx,cl in enumerate(np.unique(y)):\n",
    "        plt.scatter(x=X[y == cl, 0 ] , y=X[y == cl , 1],\n",
    "                           alpha=0.8,\n",
    "                           c=colors[idx],\n",
    "                           marker=markers[idx],\n",
    "                           label=cl,\n",
    "                           edgecolor='black')\n",
    "        \n",
    "    #テストサンプルを目立たせる\n",
    "    if test_idx:\n",
    "        #全てのサンプルをプロット\n",
    "        X_test,y_test=X[test_idx, :] , y[test_idx]\n",
    "        plt.scatter(X_test[: , 0] , X_test[:, 1],\n",
    "                           c='',\n",
    "                           edgecolor='black',\n",
    "                           alpha=1.0,\n",
    "                           linewidth=1,\n",
    "                           marker='o',\n",
    "                           s=100,\n",
    "                           label='test set')"
   ]
  },
  {
   "cell_type": "code",
   "execution_count": 28,
   "metadata": {},
   "outputs": [
    {
     "data": {
      "image/png": "[encoded data removed]",
      "text/plain": [
       "<Figure size 432x288 with 1 Axes>"
      ]
     },
     "metadata": {},
     "output_type": "display_data"
    }
   ],
   "source": [
    "#トレーニングデータとテストデータhの特徴量を行方向に統合\n",
    "X_combined_std = np.vstack((X_train_std,X_test_std))\n",
    "\n",
    "#トレーニングデータとテストデータのクラスラベルを統合\n",
    "y_combined = np.hstack((y_train,y_test))\n",
    "\n",
    "#決定境界線のプロット\n",
    "plot_decision_regions(X=X_combined_std,y=y_combined,classifier=ppn,test_idx=range(105,150))\n",
    "\n",
    "#軸ラベルの設定\n",
    "plt.xlabel('petal length [standardized]')\n",
    "plt.ylabel('petal width [standardized]')\n",
    "\n",
    "#凡例の設定\n",
    "plt.legend(loc='upper left')\n",
    "\n",
    "#グラフの表示\n",
    "plt.tight_layout()\n",
    "plt.show()"
   ]
  },
  {
   "cell_type": "markdown",
   "metadata": {},
   "source": [
    "### 結果\n",
    "結果として得られたグラフからわかるように3つの品種を線形の決定境界で完全に区切る事ができない\n",
    "\n",
    "完全に線形分離が不可能なデータセットでは、パーセプトロンアルゴリズムは決して収束しない"
   ]
  }
 ],
 "metadata": {
  "kernelspec": {
   "display_name": "Python 3",
   "language": "python",
   "name": "python3"
  },
  "language_info": {
   "codemirror_mode": {
    "name": "ipython",
    "version": 3
   },
   "file_extension": ".py",
   "mimetype": "text/x-python",
   "name": "python",
   "nbconvert_exporter": "python",
   "pygments_lexer": "ipython3",
   "version": "3.6.5"
  }
 },
 "nbformat": 4,
 "nbformat_minor": 2
}
